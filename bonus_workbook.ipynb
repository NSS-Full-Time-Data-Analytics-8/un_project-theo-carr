{
 "cells": [
  {
   "cell_type": "markdown",
   "id": "7f6fae95",
   "metadata": {},
   "source": [
    "# Bonus Problem\n",
    "## Bringing in a new dataset to investigate"
   ]
  },
  {
   "cell_type": "markdown",
   "id": "b50aadd7",
   "metadata": {},
   "source": [
    "#### Imports"
   ]
  },
  {
   "cell_type": "code",
   "execution_count": 1,
   "id": "53c561ec",
   "metadata": {},
   "outputs": [],
   "source": [
    "import pandas as pd\n",
    "import numpy as np\n",
    "import matplotlib.pyplot as plt\n",
    "import seaborn as sns\n",
    "%matplotlib inline"
   ]
  },
  {
   "cell_type": "markdown",
   "id": "3e61e54f",
   "metadata": {},
   "source": [
    "#### Read in files"
   ]
  },
  {
   "cell_type": "code",
   "execution_count": 2,
   "id": "c1e0a597",
   "metadata": {},
   "outputs": [],
   "source": [
    "gdp_per = pd.read_csv('C:/Users/theoc/Documents/NSS/Python/Projects/un_project-theo-carr/data/gdp_percapita.csv')\n",
    "internet_use = pd.read_csv('C:/Users/theoc/Documents/NSS/Python/Projects/un_project-theo-carr/data/internet_use_new.csv')\n",
    "## find one more dataset(or more) to merge with existing data sets\n",
    "greenhouse = pd.read_csv('C:/Users/theoc/Documents/NSS/Python/Projects/un_project-theo-carr/data/greenhouse_emissions.csv')"
   ]
  },
  {
   "cell_type": "markdown",
   "id": "e656664b",
   "metadata": {},
   "source": [
    "#### Clean up dataframes"
   ]
  },
  {
   "cell_type": "code",
   "execution_count": 3,
   "id": "65e5b7c3",
   "metadata": {},
   "outputs": [],
   "source": [
    "### Get rid of value footnotes from gdp and internet\n",
    "gdp_per = gdp_per.drop(columns = ['Value Footnotes'])\n",
    "internet_use = internet_use.drop(columns = ['Value Footnotes'])"
   ]
  },
  {
   "cell_type": "markdown",
   "id": "dd416147",
   "metadata": {},
   "source": [
    "#### See how they all look"
   ]
  },
  {
   "cell_type": "code",
   "execution_count": 4,
   "id": "16ab36d4",
   "metadata": {},
   "outputs": [
    {
     "name": "stdout",
     "output_type": "stream",
     "text": [
      "gdp\n",
      "  Country or Area  Year        Value\n",
      "0     Afghanistan  2020  1970.560169\n",
      "1     Afghanistan  2019  2065.036235\n",
      "internet\n",
      "  Country or Area  Year  Value\n",
      "0     Afghanistan  2014   6.39\n",
      "1     Afghanistan  2013   5.90\n",
      "greenhouse\n",
      "  Country or Area  Year        Value\n",
      "0       Australia  2019  416563.5328\n",
      "1       Australia  2018  415339.7085\n"
     ]
    }
   ],
   "source": [
    "print('gdp')\n",
    "print(gdp_per.head(2))\n",
    "print('internet')\n",
    "print(internet_use.head(2))\n",
    "print('greenhouse')\n",
    "print(greenhouse.head(2))"
   ]
  },
  {
   "cell_type": "markdown",
   "id": "61075e20",
   "metadata": {},
   "source": [
    "#### all looks good\n",
    "#### now lets explore greenhouse data and generate any questions we might have"
   ]
  },
  {
   "cell_type": "markdown",
   "id": "f5d64e52",
   "metadata": {},
   "source": [
    "### First, let's just look at the spread"
   ]
  },
  {
   "cell_type": "code",
   "execution_count": 5,
   "id": "18164aa4",
   "metadata": {},
   "outputs": [],
   "source": [
    "greenhouse.columns = ['Country', 'Year','Value']"
   ]
  },
  {
   "cell_type": "code",
   "execution_count": 6,
   "id": "8f19a151",
   "metadata": {},
   "outputs": [
    {
     "data": {
      "text/plain": [
       "Index(['Country', 'Year', 'Value'], dtype='object')"
      ]
     },
     "execution_count": 6,
     "metadata": {},
     "output_type": "execute_result"
    }
   ],
   "source": [
    "greenhouse.columns"
   ]
  },
  {
   "cell_type": "code",
   "execution_count": 7,
   "id": "3587a2d8",
   "metadata": {},
   "outputs": [
    {
     "data": {
      "text/plain": [
       "array([[<AxesSubplot:title={'center':'Value'}>]], dtype=object)"
      ]
     },
     "execution_count": 7,
     "metadata": {},
     "output_type": "execute_result"
    },
    {
     "data": {
      "image/png": "[encoded data removed]",
      "text/plain": [
       "<Figure size 640x480 with 1 Axes>"
      ]
     },
     "metadata": {},
     "output_type": "display_data"
    }
   ],
   "source": [
    "greenhouse.hist('Value', bins = 50,histtype = 'bar')\n",
    "\n"
   ]
  },
  {
   "cell_type": "markdown",
   "id": "26b0a411",
   "metadata": {},
   "source": [
    "#### We see that there is a heavy concentration of countries who fall in the low emissions area, with small amounts of countries in the middle and higher emissions sections"
   ]
  },
  {
   "cell_type": "markdown",
   "id": "fd842208",
   "metadata": {},
   "source": [
    "## Now, let's make a combined table that contains all of the data from each dataframe\n",
    "#### (internet, gdp per capita, greenhouse emissions)"
   ]
  },
  {
   "cell_type": "markdown",
   "id": "29ea96a7",
   "metadata": {},
   "source": [
    "### Merge Internet and GDP"
   ]
  },
  {
   "cell_type": "code",
   "execution_count": 8,
   "id": "88fcb6b9",
   "metadata": {},
   "outputs": [
    {
     "name": "stdout",
     "output_type": "stream",
     "text": [
      "(4495, 3)\n",
      "(7176, 3)\n",
      "(1290, 3)\n"
     ]
    }
   ],
   "source": [
    "### Testing Shape to help see if joins are successful\n",
    "print(internet_use.shape)\n",
    "print(gdp_per.shape)\n",
    "print(greenhouse.shape)"
   ]
  },
  {
   "cell_type": "code",
   "execution_count": 9,
   "id": "01a597ac",
   "metadata": {},
   "outputs": [
    {
     "name": "stdout",
     "output_type": "stream",
     "text": [
      "Index(['country', 'year', 'gdp_per'], dtype='object')\n",
      "Index(['country', 'year', 'internet_use_pct'], dtype='object')\n",
      "Index(['country', 'year', 'greenhouse_emissions'], dtype='object')\n"
     ]
    }
   ],
   "source": [
    "## We need to clean up the column names of all the tables to make joining easier\n",
    "gdp_per.columns = ['country','year','gdp_per']\n",
    "print(gdp_per.columns)\n",
    "internet_use.columns = ['country','year','internet_use_pct']\n",
    "print(internet_use.columns)\n",
    "greenhouse.columns = ['country','year','greenhouse_emissions']\n",
    "print(greenhouse.columns)"
   ]
  },
  {
   "cell_type": "code",
   "execution_count": 10,
   "id": "183db7f1",
   "metadata": {},
   "outputs": [
    {
     "data": {
      "text/plain": [
       "(8256, 4)"
      ]
     },
     "execution_count": 10,
     "metadata": {},
     "output_type": "execute_result"
    }
   ],
   "source": [
    "## perform the first join (using outer to not lose any data)\n",
    "gdp_internet = gdp_per.merge(internet_use, how = 'outer', on = ['country','year'])\n",
    "gdp_internet.shape"
   ]
  },
  {
   "cell_type": "code",
   "execution_count": 11,
   "id": "43e5a481",
   "metadata": {},
   "outputs": [
    {
     "data": {
      "text/html": [
       "<div>\n",
       "<style scoped>\n",
       "    .dataframe tbody tr th:only-of-type {\n",
       "        vertical-align: middle;\n",
       "    }\n",
       "\n",
       "    .dataframe tbody tr th {\n",
       "        vertical-align: top;\n",
       "    }\n",
       "\n",
       "    .dataframe thead th {\n",
       "        text-align: right;\n",
       "    }\n",
       "</style>\n",
       "<table border=\"1\" class=\"dataframe\">\n",
       "  <thead>\n",
       "    <tr style=\"text-align: right;\">\n",
       "      <th></th>\n",
       "      <th>country</th>\n",
       "      <th>year</th>\n",
       "      <th>gdp_per</th>\n",
       "      <th>internet_use_pct</th>\n",
       "      <th>greenhouse_emissions</th>\n",
       "    </tr>\n",
       "  </thead>\n",
       "  <tbody>\n",
       "    <tr>\n",
       "      <th>0</th>\n",
       "      <td>Afghanistan</td>\n",
       "      <td>2020</td>\n",
       "      <td>1970.560169</td>\n",
       "      <td>NaN</td>\n",
       "      <td>NaN</td>\n",
       "    </tr>\n",
       "    <tr>\n",
       "      <th>1</th>\n",
       "      <td>Afghanistan</td>\n",
       "      <td>2019</td>\n",
       "      <td>2065.036235</td>\n",
       "      <td>NaN</td>\n",
       "      <td>NaN</td>\n",
       "    </tr>\n",
       "    <tr>\n",
       "      <th>2</th>\n",
       "      <td>Afghanistan</td>\n",
       "      <td>2018</td>\n",
       "      <td>2033.804389</td>\n",
       "      <td>NaN</td>\n",
       "      <td>NaN</td>\n",
       "    </tr>\n",
       "    <tr>\n",
       "      <th>3</th>\n",
       "      <td>Afghanistan</td>\n",
       "      <td>2017</td>\n",
       "      <td>2058.400221</td>\n",
       "      <td>NaN</td>\n",
       "      <td>NaN</td>\n",
       "    </tr>\n",
       "    <tr>\n",
       "      <th>4</th>\n",
       "      <td>Afghanistan</td>\n",
       "      <td>2016</td>\n",
       "      <td>2057.067978</td>\n",
       "      <td>NaN</td>\n",
       "      <td>NaN</td>\n",
       "    </tr>\n",
       "    <tr>\n",
       "      <th>...</th>\n",
       "      <td>...</td>\n",
       "      <td>...</td>\n",
       "      <td>...</td>\n",
       "      <td>...</td>\n",
       "      <td>...</td>\n",
       "    </tr>\n",
       "    <tr>\n",
       "      <th>8419</th>\n",
       "      <td>United States of America</td>\n",
       "      <td>1994</td>\n",
       "      <td>NaN</td>\n",
       "      <td>NaN</td>\n",
       "      <td>5358824.048</td>\n",
       "    </tr>\n",
       "    <tr>\n",
       "      <th>8420</th>\n",
       "      <td>United States of America</td>\n",
       "      <td>1993</td>\n",
       "      <td>NaN</td>\n",
       "      <td>NaN</td>\n",
       "      <td>5267343.060</td>\n",
       "    </tr>\n",
       "    <tr>\n",
       "      <th>8421</th>\n",
       "      <td>United States of America</td>\n",
       "      <td>1992</td>\n",
       "      <td>NaN</td>\n",
       "      <td>NaN</td>\n",
       "      <td>5167480.847</td>\n",
       "    </tr>\n",
       "    <tr>\n",
       "      <th>8422</th>\n",
       "      <td>United States of America</td>\n",
       "      <td>1991</td>\n",
       "      <td>NaN</td>\n",
       "      <td>NaN</td>\n",
       "      <td>5057930.940</td>\n",
       "    </tr>\n",
       "    <tr>\n",
       "      <th>8423</th>\n",
       "      <td>United States of America</td>\n",
       "      <td>1990</td>\n",
       "      <td>NaN</td>\n",
       "      <td>NaN</td>\n",
       "      <td>5113454.675</td>\n",
       "    </tr>\n",
       "  </tbody>\n",
       "</table>\n",
       "<p>8424 rows × 5 columns</p>\n",
       "</div>"
      ],
      "text/plain": [
       "                       country  year      gdp_per  internet_use_pct  \\\n",
       "0                  Afghanistan  2020  1970.560169               NaN   \n",
       "1                  Afghanistan  2019  2065.036235               NaN   \n",
       "2                  Afghanistan  2018  2033.804389               NaN   \n",
       "3                  Afghanistan  2017  2058.400221               NaN   \n",
       "4                  Afghanistan  2016  2057.067978               NaN   \n",
       "...                        ...   ...          ...               ...   \n",
       "8419  United States of America  1994          NaN               NaN   \n",
       "8420  United States of America  1993          NaN               NaN   \n",
       "8421  United States of America  1992          NaN               NaN   \n",
       "8422  United States of America  1991          NaN               NaN   \n",
       "8423  United States of America  1990          NaN               NaN   \n",
       "\n",
       "      greenhouse_emissions  \n",
       "0                      NaN  \n",
       "1                      NaN  \n",
       "2                      NaN  \n",
       "3                      NaN  \n",
       "4                      NaN  \n",
       "...                    ...  \n",
       "8419           5358824.048  \n",
       "8420           5267343.060  \n",
       "8421           5167480.847  \n",
       "8422           5057930.940  \n",
       "8423           5113454.675  \n",
       "\n",
       "[8424 rows x 5 columns]"
      ]
     },
     "execution_count": 11,
     "metadata": {},
     "output_type": "execute_result"
    }
   ],
   "source": [
    "## perform the third join\n",
    "country_stats  = gdp_internet.merge(greenhouse, how = 'outer', on = ['country', 'year'])\n",
    "country_stats"
   ]
  },
  {
   "cell_type": "markdown",
   "id": "9516698e",
   "metadata": {},
   "source": [
    "#### looks good for now, may come back and fix later if any problems are discovered"
   ]
  },
  {
   "cell_type": "code",
   "execution_count": 12,
   "id": "de4eaf04",
   "metadata": {},
   "outputs": [
    {
     "name": "stdout",
     "output_type": "stream",
     "text": [
      "[1990, 1995, 2000, 2005, 2010, 2015, 2020]\n"
     ]
    }
   ],
   "source": [
    "### Create list full of years we are interested in looking at\n",
    "### for this purpose, going to look every five years from the start to the end of the dataframe\n",
    "bidecade_years = []\n",
    "for i in range(7):\n",
    "    bidecade_years.append(1990 + (i * 5))\n",
    "print(bidecade_years)"
   ]
  },
  {
   "cell_type": "code",
   "execution_count": 13,
   "id": "e349fbfe",
   "metadata": {},
   "outputs": [
    {
     "data": {
      "text/html": [
       "<div>\n",
       "<style scoped>\n",
       "    .dataframe tbody tr th:only-of-type {\n",
       "        vertical-align: middle;\n",
       "    }\n",
       "\n",
       "    .dataframe tbody tr th {\n",
       "        vertical-align: top;\n",
       "    }\n",
       "\n",
       "    .dataframe thead th {\n",
       "        text-align: right;\n",
       "    }\n",
       "</style>\n",
       "<table border=\"1\" class=\"dataframe\">\n",
       "  <thead>\n",
       "    <tr style=\"text-align: right;\">\n",
       "      <th></th>\n",
       "      <th>country</th>\n",
       "      <th>year</th>\n",
       "      <th>gdp_per</th>\n",
       "      <th>internet_use_pct</th>\n",
       "      <th>greenhouse_emissions</th>\n",
       "    </tr>\n",
       "  </thead>\n",
       "  <tbody>\n",
       "    <tr>\n",
       "      <th>0</th>\n",
       "      <td>Afghanistan</td>\n",
       "      <td>2020</td>\n",
       "      <td>1970.560169</td>\n",
       "      <td>NaN</td>\n",
       "      <td>NaN</td>\n",
       "    </tr>\n",
       "    <tr>\n",
       "      <th>1</th>\n",
       "      <td>Afghanistan</td>\n",
       "      <td>2015</td>\n",
       "      <td>2068.265904</td>\n",
       "      <td>NaN</td>\n",
       "      <td>NaN</td>\n",
       "    </tr>\n",
       "    <tr>\n",
       "      <th>2</th>\n",
       "      <td>Afghanistan</td>\n",
       "      <td>2010</td>\n",
       "      <td>1957.029070</td>\n",
       "      <td>4.000000</td>\n",
       "      <td>NaN</td>\n",
       "    </tr>\n",
       "    <tr>\n",
       "      <th>3</th>\n",
       "      <td>Afghanistan</td>\n",
       "      <td>2005</td>\n",
       "      <td>1286.793659</td>\n",
       "      <td>1.224148</td>\n",
       "      <td>NaN</td>\n",
       "    </tr>\n",
       "    <tr>\n",
       "      <th>4</th>\n",
       "      <td>Africa Eastern and Southern</td>\n",
       "      <td>2020</td>\n",
       "      <td>3491.978104</td>\n",
       "      <td>NaN</td>\n",
       "      <td>NaN</td>\n",
       "    </tr>\n",
       "    <tr>\n",
       "      <th>...</th>\n",
       "      <td>...</td>\n",
       "      <td>...</td>\n",
       "      <td>...</td>\n",
       "      <td>...</td>\n",
       "      <td>...</td>\n",
       "    </tr>\n",
       "    <tr>\n",
       "      <th>1870</th>\n",
       "      <td>United States of America</td>\n",
       "      <td>2010</td>\n",
       "      <td>NaN</td>\n",
       "      <td>NaN</td>\n",
       "      <td>5675786.435</td>\n",
       "    </tr>\n",
       "    <tr>\n",
       "      <th>1871</th>\n",
       "      <td>United States of America</td>\n",
       "      <td>2005</td>\n",
       "      <td>NaN</td>\n",
       "      <td>NaN</td>\n",
       "      <td>6134521.473</td>\n",
       "    </tr>\n",
       "    <tr>\n",
       "      <th>1872</th>\n",
       "      <td>United States of America</td>\n",
       "      <td>2000</td>\n",
       "      <td>NaN</td>\n",
       "      <td>NaN</td>\n",
       "      <td>6010508.353</td>\n",
       "    </tr>\n",
       "    <tr>\n",
       "      <th>1873</th>\n",
       "      <td>United States of America</td>\n",
       "      <td>1995</td>\n",
       "      <td>NaN</td>\n",
       "      <td>NaN</td>\n",
       "      <td>5421502.465</td>\n",
       "    </tr>\n",
       "    <tr>\n",
       "      <th>1874</th>\n",
       "      <td>United States of America</td>\n",
       "      <td>1990</td>\n",
       "      <td>NaN</td>\n",
       "      <td>NaN</td>\n",
       "      <td>5113454.675</td>\n",
       "    </tr>\n",
       "  </tbody>\n",
       "</table>\n",
       "<p>1875 rows × 5 columns</p>\n",
       "</div>"
      ],
      "text/plain": [
       "                          country  year      gdp_per  internet_use_pct  \\\n",
       "0                     Afghanistan  2020  1970.560169               NaN   \n",
       "1                     Afghanistan  2015  2068.265904               NaN   \n",
       "2                     Afghanistan  2010  1957.029070          4.000000   \n",
       "3                     Afghanistan  2005  1286.793659          1.224148   \n",
       "4     Africa Eastern and Southern  2020  3491.978104               NaN   \n",
       "...                           ...   ...          ...               ...   \n",
       "1870     United States of America  2010          NaN               NaN   \n",
       "1871     United States of America  2005          NaN               NaN   \n",
       "1872     United States of America  2000          NaN               NaN   \n",
       "1873     United States of America  1995          NaN               NaN   \n",
       "1874     United States of America  1990          NaN               NaN   \n",
       "\n",
       "      greenhouse_emissions  \n",
       "0                      NaN  \n",
       "1                      NaN  \n",
       "2                      NaN  \n",
       "3                      NaN  \n",
       "4                      NaN  \n",
       "...                    ...  \n",
       "1870           5675786.435  \n",
       "1871           6134521.473  \n",
       "1872           6010508.353  \n",
       "1873           5421502.465  \n",
       "1874           5113454.675  \n",
       "\n",
       "[1875 rows x 5 columns]"
      ]
     },
     "execution_count": 13,
     "metadata": {},
     "output_type": "execute_result"
    }
   ],
   "source": [
    "cs_bidec = country_stats.query('year in @bidecade_years')\n",
    "cs_bidec = cs_bidec.reset_index(drop = True)\n",
    "cs_bidec"
   ]
  },
  {
   "cell_type": "markdown",
   "id": "7953789f",
   "metadata": {},
   "source": [
    "### let's seaborn this table"
   ]
  },
  {
   "cell_type": "markdown",
   "id": "71b03fca",
   "metadata": {},
   "source": [
    "#### but this table is too big, so we need to look at the top/bottom 5"
   ]
  },
  {
   "cell_type": "markdown",
   "id": "59460b04",
   "metadata": {},
   "source": [
    "#### first, let's start with the top 5 emissions"
   ]
  },
  {
   "cell_type": "code",
   "execution_count": 15,
   "id": "4b2274d0",
   "metadata": {},
   "outputs": [
    {
     "data": {
      "text/html": [
       "<div>\n",
       "<style scoped>\n",
       "    .dataframe tbody tr th:only-of-type {\n",
       "        vertical-align: middle;\n",
       "    }\n",
       "\n",
       "    .dataframe tbody tr th {\n",
       "        vertical-align: top;\n",
       "    }\n",
       "\n",
       "    .dataframe thead th {\n",
       "        text-align: right;\n",
       "    }\n",
       "</style>\n",
       "<table border=\"1\" class=\"dataframe\">\n",
       "  <thead>\n",
       "    <tr style=\"text-align: right;\">\n",
       "      <th></th>\n",
       "      <th>country</th>\n",
       "      <th>year</th>\n",
       "      <th>greenhouse_emissions</th>\n",
       "    </tr>\n",
       "  </thead>\n",
       "  <tbody>\n",
       "    <tr>\n",
       "      <th>1274</th>\n",
       "      <td>United States of America</td>\n",
       "      <td>2005</td>\n",
       "      <td>6134521.473</td>\n",
       "    </tr>\n",
       "    <tr>\n",
       "      <th>1272</th>\n",
       "      <td>United States of America</td>\n",
       "      <td>2007</td>\n",
       "      <td>6131004.158</td>\n",
       "    </tr>\n",
       "    <tr>\n",
       "      <th>1275</th>\n",
       "      <td>United States of America</td>\n",
       "      <td>2004</td>\n",
       "      <td>6114006.880</td>\n",
       "    </tr>\n",
       "    <tr>\n",
       "      <th>1273</th>\n",
       "      <td>United States of America</td>\n",
       "      <td>2006</td>\n",
       "      <td>6051668.046</td>\n",
       "    </tr>\n",
       "    <tr>\n",
       "      <th>1276</th>\n",
       "      <td>United States of America</td>\n",
       "      <td>2003</td>\n",
       "      <td>6011837.495</td>\n",
       "    </tr>\n",
       "  </tbody>\n",
       "</table>\n",
       "</div>"
      ],
      "text/plain": [
       "                       country  year  greenhouse_emissions\n",
       "1274  United States of America  2005           6134521.473\n",
       "1272  United States of America  2007           6131004.158\n",
       "1275  United States of America  2004           6114006.880\n",
       "1273  United States of America  2006           6051668.046\n",
       "1276  United States of America  2003           6011837.495"
      ]
     },
     "execution_count": 15,
     "metadata": {},
     "output_type": "execute_result"
    }
   ],
   "source": [
    "top_emissions = greenhouse.sort_values(by = 'greenhouse_emissions', ascending = False).head(5)\n",
    "top_emissions"
   ]
  },
  {
   "cell_type": "markdown",
   "id": "1278610e",
   "metadata": {},
   "source": [
    "#### We see that it is all the united states ... so lets look year by year\n",
    "#### starting with the earliest year = 1990"
   ]
  },
  {
   "cell_type": "code",
   "execution_count": 31,
   "id": "f5c7ad4e",
   "metadata": {},
   "outputs": [
    {
     "data": {
      "text/html": [
       "<div>\n",
       "<style scoped>\n",
       "    .dataframe tbody tr th:only-of-type {\n",
       "        vertical-align: middle;\n",
       "    }\n",
       "\n",
       "    .dataframe tbody tr th {\n",
       "        vertical-align: top;\n",
       "    }\n",
       "\n",
       "    .dataframe thead th {\n",
       "        text-align: right;\n",
       "    }\n",
       "</style>\n",
       "<table border=\"1\" class=\"dataframe\">\n",
       "  <thead>\n",
       "    <tr style=\"text-align: right;\">\n",
       "      <th></th>\n",
       "      <th>country</th>\n",
       "      <th>year</th>\n",
       "      <th>gdp_per</th>\n",
       "      <th>internet_use_pct</th>\n",
       "      <th>greenhouse_emissions</th>\n",
       "    </tr>\n",
       "  </thead>\n",
       "  <tbody>\n",
       "    <tr>\n",
       "      <th>8423</th>\n",
       "      <td>United States of America</td>\n",
       "      <td>1990</td>\n",
       "      <td>NaN</td>\n",
       "      <td>NaN</td>\n",
       "      <td>5.113455e+06</td>\n",
       "    </tr>\n",
       "    <tr>\n",
       "      <th>8354</th>\n",
       "      <td>Russian Federation</td>\n",
       "      <td>1990</td>\n",
       "      <td>NaN</td>\n",
       "      <td>NaN</td>\n",
       "      <td>2.525518e+06</td>\n",
       "    </tr>\n",
       "    <tr>\n",
       "      <th>3220</th>\n",
       "      <td>Japan</td>\n",
       "      <td>1990</td>\n",
       "      <td>32846.38961</td>\n",
       "      <td>0.020294</td>\n",
       "      <td>1.158007e+06</td>\n",
       "    </tr>\n",
       "    <tr>\n",
       "      <th>2363</th>\n",
       "      <td>Germany</td>\n",
       "      <td>1990</td>\n",
       "      <td>36699.48170</td>\n",
       "      <td>0.125892</td>\n",
       "      <td>1.052477e+06</td>\n",
       "    </tr>\n",
       "    <tr>\n",
       "      <th>6807</th>\n",
       "      <td>Ukraine</td>\n",
       "      <td>1990</td>\n",
       "      <td>16428.48047</td>\n",
       "      <td>0.000000</td>\n",
       "      <td>7.058300e+05</td>\n",
       "    </tr>\n",
       "  </tbody>\n",
       "</table>\n",
       "</div>"
      ],
      "text/plain": [
       "                       country  year      gdp_per  internet_use_pct  \\\n",
       "8423  United States of America  1990          NaN               NaN   \n",
       "8354        Russian Federation  1990          NaN               NaN   \n",
       "3220                     Japan  1990  32846.38961          0.020294   \n",
       "2363                   Germany  1990  36699.48170          0.125892   \n",
       "6807                   Ukraine  1990  16428.48047          0.000000   \n",
       "\n",
       "      greenhouse_emissions  \n",
       "8423          5.113455e+06  \n",
       "8354          2.525518e+06  \n",
       "3220          1.158007e+06  \n",
       "2363          1.052477e+06  \n",
       "6807          7.058300e+05  "
      ]
     },
     "execution_count": 31,
     "metadata": {},
     "output_type": "execute_result"
    }
   ],
   "source": [
    "yr_1990 = country_stats.query('year == 1990 & country != \"European Union\"')\n",
    "top_1990 = yr_1990.sort_values(by = 'greenhouse_emissions', ascending = False)\n",
    "top_1990 = top_1990.head(5)\n",
    "top_1990"
   ]
  },
  {
   "cell_type": "markdown",
   "id": "de30855d",
   "metadata": {},
   "source": [
    "#### looks good"
   ]
  },
  {
   "cell_type": "markdown",
   "id": "c3fd9820",
   "metadata": {},
   "source": [
    "### let's concat every five years going to 2020"
   ]
  },
  {
   "cell_type": "code",
   "execution_count": 53,
   "id": "1752a40b",
   "metadata": {},
   "outputs": [
    {
     "data": {
      "text/html": [
       "<div>\n",
       "<style scoped>\n",
       "    .dataframe tbody tr th:only-of-type {\n",
       "        vertical-align: middle;\n",
       "    }\n",
       "\n",
       "    .dataframe tbody tr th {\n",
       "        vertical-align: top;\n",
       "    }\n",
       "\n",
       "    .dataframe thead th {\n",
       "        text-align: right;\n",
       "    }\n",
       "</style>\n",
       "<table border=\"1\" class=\"dataframe\">\n",
       "  <thead>\n",
       "    <tr style=\"text-align: right;\">\n",
       "      <th></th>\n",
       "      <th>country</th>\n",
       "      <th>year</th>\n",
       "      <th>gdp_per</th>\n",
       "      <th>internet_use_pct</th>\n",
       "      <th>greenhouse_emissions</th>\n",
       "    </tr>\n",
       "  </thead>\n",
       "  <tbody>\n",
       "    <tr>\n",
       "      <th>0</th>\n",
       "      <td>United States of America</td>\n",
       "      <td>1990</td>\n",
       "      <td>NaN</td>\n",
       "      <td>NaN</td>\n",
       "      <td>5.113455e+06</td>\n",
       "    </tr>\n",
       "    <tr>\n",
       "      <th>1</th>\n",
       "      <td>Russian Federation</td>\n",
       "      <td>1990</td>\n",
       "      <td>NaN</td>\n",
       "      <td>NaN</td>\n",
       "      <td>2.525518e+06</td>\n",
       "    </tr>\n",
       "    <tr>\n",
       "      <th>2</th>\n",
       "      <td>Japan</td>\n",
       "      <td>1990</td>\n",
       "      <td>32846.38961</td>\n",
       "      <td>0.020294</td>\n",
       "      <td>1.158007e+06</td>\n",
       "    </tr>\n",
       "    <tr>\n",
       "      <th>3</th>\n",
       "      <td>Germany</td>\n",
       "      <td>1990</td>\n",
       "      <td>36699.48170</td>\n",
       "      <td>0.125892</td>\n",
       "      <td>1.052477e+06</td>\n",
       "    </tr>\n",
       "    <tr>\n",
       "      <th>4</th>\n",
       "      <td>Ukraine</td>\n",
       "      <td>1990</td>\n",
       "      <td>16428.48047</td>\n",
       "      <td>0.000000</td>\n",
       "      <td>7.058300e+05</td>\n",
       "    </tr>\n",
       "    <tr>\n",
       "      <th>5</th>\n",
       "      <td>United States of America</td>\n",
       "      <td>1995</td>\n",
       "      <td>NaN</td>\n",
       "      <td>NaN</td>\n",
       "      <td>5.421502e+06</td>\n",
       "    </tr>\n",
       "    <tr>\n",
       "      <th>6</th>\n",
       "      <td>Russian Federation</td>\n",
       "      <td>1995</td>\n",
       "      <td>NaN</td>\n",
       "      <td>NaN</td>\n",
       "      <td>1.613141e+06</td>\n",
       "    </tr>\n",
       "    <tr>\n",
       "      <th>7</th>\n",
       "      <td>Japan</td>\n",
       "      <td>1995</td>\n",
       "      <td>34867.58039</td>\n",
       "      <td>1.594363</td>\n",
       "      <td>1.239620e+06</td>\n",
       "    </tr>\n",
       "    <tr>\n",
       "      <th>8</th>\n",
       "      <td>Germany</td>\n",
       "      <td>1995</td>\n",
       "      <td>39366.08864</td>\n",
       "      <td>1.837738</td>\n",
       "      <td>9.389684e+05</td>\n",
       "    </tr>\n",
       "    <tr>\n",
       "      <th>9</th>\n",
       "      <td>United Kingdom</td>\n",
       "      <td>1995</td>\n",
       "      <td>33375.70964</td>\n",
       "      <td>1.895168</td>\n",
       "      <td>5.672616e+05</td>\n",
       "    </tr>\n",
       "    <tr>\n",
       "      <th>10</th>\n",
       "      <td>United States of America</td>\n",
       "      <td>2000</td>\n",
       "      <td>NaN</td>\n",
       "      <td>NaN</td>\n",
       "      <td>6.010508e+06</td>\n",
       "    </tr>\n",
       "    <tr>\n",
       "      <th>11</th>\n",
       "      <td>Russian Federation</td>\n",
       "      <td>2000</td>\n",
       "      <td>NaN</td>\n",
       "      <td>NaN</td>\n",
       "      <td>1.471259e+06</td>\n",
       "    </tr>\n",
       "    <tr>\n",
       "      <th>12</th>\n",
       "      <td>Japan</td>\n",
       "      <td>2000</td>\n",
       "      <td>36323.09530</td>\n",
       "      <td>29.990740</td>\n",
       "      <td>1.264375e+06</td>\n",
       "    </tr>\n",
       "    <tr>\n",
       "      <th>13</th>\n",
       "      <td>Germany</td>\n",
       "      <td>2000</td>\n",
       "      <td>42928.18134</td>\n",
       "      <td>30.216347</td>\n",
       "      <td>8.998521e+05</td>\n",
       "    </tr>\n",
       "    <tr>\n",
       "      <th>14</th>\n",
       "      <td>United Kingdom</td>\n",
       "      <td>2000</td>\n",
       "      <td>38915.19754</td>\n",
       "      <td>26.821754</td>\n",
       "      <td>5.682997e+05</td>\n",
       "    </tr>\n",
       "    <tr>\n",
       "      <th>15</th>\n",
       "      <td>United States of America</td>\n",
       "      <td>2005</td>\n",
       "      <td>NaN</td>\n",
       "      <td>NaN</td>\n",
       "      <td>6.134521e+06</td>\n",
       "    </tr>\n",
       "    <tr>\n",
       "      <th>16</th>\n",
       "      <td>Russian Federation</td>\n",
       "      <td>2005</td>\n",
       "      <td>NaN</td>\n",
       "      <td>NaN</td>\n",
       "      <td>1.547599e+06</td>\n",
       "    </tr>\n",
       "    <tr>\n",
       "      <th>17</th>\n",
       "      <td>Japan</td>\n",
       "      <td>2005</td>\n",
       "      <td>38250.63801</td>\n",
       "      <td>66.921066</td>\n",
       "      <td>1.290371e+06</td>\n",
       "    </tr>\n",
       "    <tr>\n",
       "      <th>18</th>\n",
       "      <td>Germany</td>\n",
       "      <td>2005</td>\n",
       "      <td>43949.28818</td>\n",
       "      <td>68.710000</td>\n",
       "      <td>8.666972e+05</td>\n",
       "    </tr>\n",
       "    <tr>\n",
       "      <th>19</th>\n",
       "      <td>Canada</td>\n",
       "      <td>2005</td>\n",
       "      <td>42046.86958</td>\n",
       "      <td>71.660000</td>\n",
       "      <td>5.758524e+05</td>\n",
       "    </tr>\n",
       "    <tr>\n",
       "      <th>20</th>\n",
       "      <td>United States of America</td>\n",
       "      <td>2010</td>\n",
       "      <td>NaN</td>\n",
       "      <td>NaN</td>\n",
       "      <td>5.675786e+06</td>\n",
       "    </tr>\n",
       "    <tr>\n",
       "      <th>21</th>\n",
       "      <td>Russian Federation</td>\n",
       "      <td>2010</td>\n",
       "      <td>NaN</td>\n",
       "      <td>NaN</td>\n",
       "      <td>1.613113e+06</td>\n",
       "    </tr>\n",
       "    <tr>\n",
       "      <th>22</th>\n",
       "      <td>Japan</td>\n",
       "      <td>2010</td>\n",
       "      <td>38069.95604</td>\n",
       "      <td>78.210000</td>\n",
       "      <td>1.214816e+06</td>\n",
       "    </tr>\n",
       "    <tr>\n",
       "      <th>23</th>\n",
       "      <td>Germany</td>\n",
       "      <td>2010</td>\n",
       "      <td>46999.23997</td>\n",
       "      <td>82.000000</td>\n",
       "      <td>8.329491e+05</td>\n",
       "    </tr>\n",
       "    <tr>\n",
       "      <th>24</th>\n",
       "      <td>Canada</td>\n",
       "      <td>2010</td>\n",
       "      <td>44861.52396</td>\n",
       "      <td>80.300000</td>\n",
       "      <td>5.588040e+05</td>\n",
       "    </tr>\n",
       "    <tr>\n",
       "      <th>25</th>\n",
       "      <td>United States of America</td>\n",
       "      <td>2015</td>\n",
       "      <td>NaN</td>\n",
       "      <td>NaN</td>\n",
       "      <td>5.371771e+06</td>\n",
       "    </tr>\n",
       "    <tr>\n",
       "      <th>26</th>\n",
       "      <td>Russian Federation</td>\n",
       "      <td>2015</td>\n",
       "      <td>NaN</td>\n",
       "      <td>NaN</td>\n",
       "      <td>1.623100e+06</td>\n",
       "    </tr>\n",
       "    <tr>\n",
       "      <th>27</th>\n",
       "      <td>Japan</td>\n",
       "      <td>2015</td>\n",
       "      <td>40402.58151</td>\n",
       "      <td>NaN</td>\n",
       "      <td>1.223396e+06</td>\n",
       "    </tr>\n",
       "    <tr>\n",
       "      <th>28</th>\n",
       "      <td>Germany</td>\n",
       "      <td>2015</td>\n",
       "      <td>51159.29746</td>\n",
       "      <td>NaN</td>\n",
       "      <td>7.956102e+05</td>\n",
       "    </tr>\n",
       "    <tr>\n",
       "      <th>29</th>\n",
       "      <td>Canada</td>\n",
       "      <td>2015</td>\n",
       "      <td>47522.14067</td>\n",
       "      <td>NaN</td>\n",
       "      <td>5.730614e+05</td>\n",
       "    </tr>\n",
       "  </tbody>\n",
       "</table>\n",
       "</div>"
      ],
      "text/plain": [
       "                     country  year      gdp_per  internet_use_pct  \\\n",
       "0   United States of America  1990          NaN               NaN   \n",
       "1         Russian Federation  1990          NaN               NaN   \n",
       "2                      Japan  1990  32846.38961          0.020294   \n",
       "3                    Germany  1990  36699.48170          0.125892   \n",
       "4                    Ukraine  1990  16428.48047          0.000000   \n",
       "5   United States of America  1995          NaN               NaN   \n",
       "6         Russian Federation  1995          NaN               NaN   \n",
       "7                      Japan  1995  34867.58039          1.594363   \n",
       "8                    Germany  1995  39366.08864          1.837738   \n",
       "9             United Kingdom  1995  33375.70964          1.895168   \n",
       "10  United States of America  2000          NaN               NaN   \n",
       "11        Russian Federation  2000          NaN               NaN   \n",
       "12                     Japan  2000  36323.09530         29.990740   \n",
       "13                   Germany  2000  42928.18134         30.216347   \n",
       "14            United Kingdom  2000  38915.19754         26.821754   \n",
       "15  United States of America  2005          NaN               NaN   \n",
       "16        Russian Federation  2005          NaN               NaN   \n",
       "17                     Japan  2005  38250.63801         66.921066   \n",
       "18                   Germany  2005  43949.28818         68.710000   \n",
       "19                    Canada  2005  42046.86958         71.660000   \n",
       "20  United States of America  2010          NaN               NaN   \n",
       "21        Russian Federation  2010          NaN               NaN   \n",
       "22                     Japan  2010  38069.95604         78.210000   \n",
       "23                   Germany  2010  46999.23997         82.000000   \n",
       "24                    Canada  2010  44861.52396         80.300000   \n",
       "25  United States of America  2015          NaN               NaN   \n",
       "26        Russian Federation  2015          NaN               NaN   \n",
       "27                     Japan  2015  40402.58151               NaN   \n",
       "28                   Germany  2015  51159.29746               NaN   \n",
       "29                    Canada  2015  47522.14067               NaN   \n",
       "\n",
       "    greenhouse_emissions  \n",
       "0           5.113455e+06  \n",
       "1           2.525518e+06  \n",
       "2           1.158007e+06  \n",
       "3           1.052477e+06  \n",
       "4           7.058300e+05  \n",
       "5           5.421502e+06  \n",
       "6           1.613141e+06  \n",
       "7           1.239620e+06  \n",
       "8           9.389684e+05  \n",
       "9           5.672616e+05  \n",
       "10          6.010508e+06  \n",
       "11          1.471259e+06  \n",
       "12          1.264375e+06  \n",
       "13          8.998521e+05  \n",
       "14          5.682997e+05  \n",
       "15          6.134521e+06  \n",
       "16          1.547599e+06  \n",
       "17          1.290371e+06  \n",
       "18          8.666972e+05  \n",
       "19          5.758524e+05  \n",
       "20          5.675786e+06  \n",
       "21          1.613113e+06  \n",
       "22          1.214816e+06  \n",
       "23          8.329491e+05  \n",
       "24          5.588040e+05  \n",
       "25          5.371771e+06  \n",
       "26          1.623100e+06  \n",
       "27          1.223396e+06  \n",
       "28          7.956102e+05  \n",
       "29          5.730614e+05  "
      ]
     },
     "execution_count": 53,
     "metadata": {},
     "output_type": "execute_result"
    }
   ],
   "source": [
    "temp_list = []\n",
    "for i in range(6):\n",
    "    yr = bidecade_years[i]\n",
    "    temp_df = country_stats.query('year == @yr & country != \"European Union\"')\n",
    "    temp_df = temp_df.sort_values(by = 'greenhouse_emissions',ascending = False)\n",
    "    temp_df = temp_df.head(5)\n",
    "    temp_list.append(temp_df)\n",
    "yr_1990 = temp_list[0]\n",
    "yr_1995 = temp_list[1]\n",
    "yr_2000 = temp_list[2]\n",
    "yr_2005 = temp_list[3]\n",
    "yr_2010 = temp_list[4]\n",
    "yr_2015 = temp_list[5]\n",
    "rolling_top_emissions = pd.concat([yr_1990, yr_1995,yr_2000,yr_2005,yr_2010,yr_2015])\n",
    "rolling_top_emissions = rolling_top_emissions.reset_index(drop = True)\n",
    "rolling_top_emissions\n",
    "    "
   ]
  },
  {
   "cell_type": "markdown",
   "id": "010207f0",
   "metadata": {},
   "source": [
    "## Lets Seaborn it"
   ]
  },
  {
   "cell_type": "code",
   "execution_count": 54,
   "id": "6a36d923",
   "metadata": {},
   "outputs": [
    {
     "data": {
      "image/png": "[encoded data removed]",
      "text/plain": [
       "<Figure size 300x2100 with 7 Axes>"
      ]
     },
     "metadata": {},
     "output_type": "display_data"
    }
   ],
   "source": [
    "rolling_emissions_facet = sns.FacetGrid(rolling_top_emissions, row = 'country')\n",
    "rolling_emissions_map = rolling_emissions_facet.map(sns.lineplot, 'year', 'greenhouse_emissions')"
   ]
  },
  {
   "cell_type": "code",
   "execution_count": null,
   "id": "b5d4dd1e",
   "metadata": {},
   "outputs": [],
   "source": []
  }
 ],
 "metadata": {
  "kernelspec": {
   "display_name": "Python 3 (ipykernel)",
   "language": "python",
   "name": "python3"
  },
  "language_info": {
   "codemirror_mode": {
    "name": "ipython",
    "version": 3
   },
   "file_extension": ".py",
   "mimetype": "text/x-python",
   "name": "python",
   "nbconvert_exporter": "python",
   "pygments_lexer": "ipython3",
   "version": "3.9.13"
  }
 },
 "nbformat": 4,
 "nbformat_minor": 5
}
