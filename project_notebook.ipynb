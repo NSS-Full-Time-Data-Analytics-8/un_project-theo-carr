{
 "cells": [
  {
   "cell_type": "markdown",
   "id": "79d93192",
   "metadata": {},
   "source": [
    " # Imports"
   ]
  },
  {
   "cell_type": "code",
   "execution_count": null,
   "id": "39fc70ab",
   "metadata": {},
   "outputs": [],
   "source": [
    "import pandas as pd\n",
    "import numpy as np\n",
    "import matplotlib.pyplot as plt\n",
    "import seaborn as sns\n",
    "%matplotlib inline"
   ]
  },
  {
   "cell_type": "markdown",
   "id": "06e6f735",
   "metadata": {},
   "source": [
    "# Read in the files"
   ]
  },
  {
   "cell_type": "code",
   "execution_count": null,
   "id": "3754cce1",
   "metadata": {},
   "outputs": [],
   "source": [
    "gdp_df = pd.read_csv('C:/Users/theoc/Documents/NSS/Python/Projects/un_project-theo-carr/data/gdp_percapita.csv')"
   ]
  },
  {
   "cell_type": "code",
   "execution_count": null,
   "id": "08488487",
   "metadata": {},
   "outputs": [],
   "source": [
    "internet_df = pd.read_csv('C:/Users/theoc/Documents/NSS/Python/Projects/un_project-theo-carr/data/internet_use_new.csv')"
   ]
  },
  {
   "cell_type": "markdown",
   "id": "cbb2720f",
   "metadata": {},
   "source": [
    "# Look at the first six rows of both dataframes"
   ]
  },
  {
   "cell_type": "code",
   "execution_count": null,
   "id": "9060c42d",
   "metadata": {},
   "outputs": [],
   "source": [
    "gdp_df.head(6)"
   ]
  },
  {
   "cell_type": "code",
   "execution_count": null,
   "id": "afadb5ee",
   "metadata": {},
   "outputs": [],
   "source": [
    "internet_df.head(6)"
   ]
  },
  {
   "cell_type": "markdown",
   "id": "adfa176c",
   "metadata": {},
   "source": [
    "# Look at the shape of each dataframe"
   ]
  },
  {
   "cell_type": "code",
   "execution_count": null,
   "id": "b10ef17d",
   "metadata": {},
   "outputs": [],
   "source": [
    "gdp_df.shape"
   ]
  },
  {
   "cell_type": "code",
   "execution_count": null,
   "id": "8a72edba",
   "metadata": {},
   "outputs": [],
   "source": [
    "internet_df.shape"
   ]
  },
  {
   "cell_type": "markdown",
   "id": "81dfa1d6",
   "metadata": {},
   "source": [
    "### GDP: rows = 7176 col = 4, INTERNET: rows = 4677 col = 6"
   ]
  },
  {
   "cell_type": "markdown",
   "id": "072dc425",
   "metadata": {},
   "source": [
    "# Look at the datatypes of columns"
   ]
  },
  {
   "cell_type": "code",
   "execution_count": null,
   "id": "6e4f6192",
   "metadata": {},
   "outputs": [],
   "source": [
    "gdp_df.dtypes"
   ]
  },
  {
   "cell_type": "code",
   "execution_count": null,
   "id": "b1c19afa",
   "metadata": {},
   "outputs": [],
   "source": [
    "internet_df.dtypes"
   ]
  },
  {
   "cell_type": "markdown",
   "id": "01d93e21",
   "metadata": {},
   "source": [
    "# Look at the last 10 rows of each dataframe"
   ]
  },
  {
   "cell_type": "code",
   "execution_count": null,
   "id": "9cd39534",
   "metadata": {},
   "outputs": [],
   "source": [
    "gdp_df.tail(10)"
   ]
  },
  {
   "cell_type": "code",
   "execution_count": null,
   "id": "0ae974fd",
   "metadata": {},
   "outputs": [],
   "source": [
    "internet_df.tail(10)"
   ]
  },
  {
   "cell_type": "markdown",
   "id": "d3158c82",
   "metadata": {},
   "source": [
    "# Drop the 'value footnotes' column from each dataframe\n",
    "### show that this worked properly"
   ]
  },
  {
   "cell_type": "code",
   "execution_count": null,
   "id": "74ac922a",
   "metadata": {},
   "outputs": [],
   "source": [
    "gdp_df = gdp_df.drop(columns = ['Value Footnotes'])"
   ]
  },
  {
   "cell_type": "code",
   "execution_count": null,
   "id": "f86e722d",
   "metadata": {},
   "outputs": [],
   "source": [
    "gdp_df.head(1)"
   ]
  },
  {
   "cell_type": "code",
   "execution_count": null,
   "id": "6aed9901",
   "metadata": {},
   "outputs": [],
   "source": [
    "internet_df = internet_df.drop(columns = ['Value Footnotes'])"
   ]
  },
  {
   "cell_type": "code",
   "execution_count": null,
   "id": "0b33f524",
   "metadata": {},
   "outputs": [],
   "source": [
    "internet_df.head(1)"
   ]
  },
  {
   "cell_type": "markdown",
   "id": "fffee3bc",
   "metadata": {},
   "source": [
    "# Change the column names for each dataframe"
   ]
  },
  {
   "cell_type": "code",
   "execution_count": null,
   "id": "c4f73b78",
   "metadata": {},
   "outputs": [],
   "source": [
    "gdp_df.columns = ['Country', 'Year', 'GDP_Per_Capita']"
   ]
  },
  {
   "cell_type": "code",
   "execution_count": null,
   "id": "54987e2f",
   "metadata": {},
   "outputs": [],
   "source": [
    "gdp_df.head(1)"
   ]
  },
  {
   "cell_type": "code",
   "execution_count": null,
   "id": "e3110b30",
   "metadata": {},
   "outputs": [],
   "source": [
    "internet_df.columns = ['Country', 'Year','Internet_Users_Pct']"
   ]
  },
  {
   "cell_type": "code",
   "execution_count": null,
   "id": "0d9e6e18",
   "metadata": {},
   "outputs": [],
   "source": [
    "internet_df.head(1)"
   ]
  },
  {
   "cell_type": "markdown",
   "id": "1088e4b5",
   "metadata": {},
   "source": [
    "# Merge the dataframes"
   ]
  },
  {
   "cell_type": "code",
   "execution_count": null,
   "id": "c65e48f3",
   "metadata": {},
   "outputs": [],
   "source": [
    "gdp_and_internet_use = gdp_df.merge(internet_df,how='outer',on = ['Year','Country'])"
   ]
  },
  {
   "cell_type": "markdown",
   "id": "8d6a7e87",
   "metadata": {},
   "source": [
    "### Testing"
   ]
  },
  {
   "cell_type": "code",
   "execution_count": null,
   "id": "cad1a947",
   "metadata": {},
   "outputs": [],
   "source": [
    "print(gdp_and_internet_use.shape)\n",
    "print(internet_df.shape)\n",
    "print(gdp_df.shape)"
   ]
  },
  {
   "cell_type": "code",
   "execution_count": null,
   "id": "04401e86",
   "metadata": {},
   "outputs": [],
   "source": [
    "gdp_and_internet_use.loc[100:105]"
   ]
  },
  {
   "cell_type": "code",
   "execution_count": null,
   "id": "65ec3994",
   "metadata": {},
   "outputs": [],
   "source": [
    "gdp_and_internet_use.head()"
   ]
  },
  {
   "cell_type": "code",
   "execution_count": null,
   "id": "9af8b069",
   "metadata": {},
   "outputs": [],
   "source": [
    "gdp_and_internet_use.tail()"
   ]
  },
  {
   "cell_type": "markdown",
   "id": "7b66f16e",
   "metadata": {},
   "source": [
    "#### looks good for now"
   ]
  },
  {
   "cell_type": "markdown",
   "id": "99a691d5",
   "metadata": {},
   "source": [
    "# Subset years = 2004,2009,2014"
   ]
  },
  {
   "cell_type": "code",
   "execution_count": null,
   "id": "9a55aa44",
   "metadata": {},
   "outputs": [],
   "source": [
    "subset_years = [2004,2009,2014]\n",
    "subset = gdp_and_internet_use.query('Year in @subset_years')\n",
    "##test\n",
    "subset.tail()"
   ]
  },
  {
   "cell_type": "markdown",
   "id": "fb6bf5bf",
   "metadata": {},
   "source": [
    "# Create three dataframes for each subset year"
   ]
  },
  {
   "cell_type": "code",
   "execution_count": null,
   "id": "76fb40c4",
   "metadata": {},
   "outputs": [],
   "source": [
    "yr_2004 = subset.query('Year == 2004')\n",
    "##test\n",
    "yr_2004.head()"
   ]
  },
  {
   "cell_type": "code",
   "execution_count": null,
   "id": "3236bfa0",
   "metadata": {},
   "outputs": [],
   "source": [
    "yr_2009 = subset.query('Year == 2009')\n",
    "##test\n",
    "yr_2009.head()"
   ]
  },
  {
   "cell_type": "code",
   "execution_count": null,
   "id": "f0f90f08",
   "metadata": {},
   "outputs": [],
   "source": [
    "yr_2014 = subset.query('Year == 2014')\n",
    "##test\n",
    "yr_2014.head()"
   ]
  },
  {
   "cell_type": "markdown",
   "id": "5d294a95",
   "metadata": {},
   "source": [
    "# Which country had the highest % of internet users in 2014\n",
    "## What was the percentage?"
   ]
  },
  {
   "cell_type": "code",
   "execution_count": null,
   "id": "c6df5f59",
   "metadata": {},
   "outputs": [],
   "source": [
    "test = yr_2014.sort_values(by = 'Internet_Users_Pct', ascending = False)\n",
    "test.head(1)"
   ]
  },
  {
   "cell_type": "markdown",
   "id": "ae7d84a6",
   "metadata": {},
   "source": [
    "### ANSWER = Iceland, 98.16%"
   ]
  },
  {
   "cell_type": "markdown",
   "id": "4eda4990",
   "metadata": {},
   "source": [
    "# Which country had the lowest % of internet users in 2014?"
   ]
  },
  {
   "cell_type": "code",
   "execution_count": null,
   "id": "13ec1215",
   "metadata": {},
   "outputs": [],
   "source": [
    "test = yr_2014.sort_values(by = 'Internet_Users_Pct')\n",
    "test.head(1)"
   ]
  },
  {
   "cell_type": "markdown",
   "id": "652ff8db",
   "metadata": {},
   "source": [
    "### ANSWER = Dem. People's Rep. of Korea with an astounding 0%"
   ]
  },
  {
   "cell_type": "markdown",
   "id": "778a0fd2",
   "metadata": {},
   "source": [
    "### Maybe there are multiple countries with 0% -- let's check"
   ]
  },
  {
   "cell_type": "code",
   "execution_count": null,
   "id": "ee9ef72c",
   "metadata": {},
   "outputs": [],
   "source": [
    "test.head(5)"
   ]
  },
  {
   "cell_type": "markdown",
   "id": "753536f3",
   "metadata": {},
   "source": [
    "#### Looks Good"
   ]
  },
  {
   "cell_type": "markdown",
   "id": "53b133a7",
   "metadata": {},
   "source": [
    "# Repeat for 2004 and 2009"
   ]
  },
  {
   "cell_type": "markdown",
   "id": "a55bfd79",
   "metadata": {},
   "source": [
    "## 2004"
   ]
  },
  {
   "cell_type": "code",
   "execution_count": null,
   "id": "565668a9",
   "metadata": {},
   "outputs": [],
   "source": [
    "high = yr_2004.sort_values(by = 'Internet_Users_Pct',ascending = False)\n",
    "high.head(3)"
   ]
  },
  {
   "cell_type": "code",
   "execution_count": null,
   "id": "1a895029",
   "metadata": {},
   "outputs": [],
   "source": [
    "low = yr_2004.sort_values(by = 'Internet_Users_Pct')\n",
    "low.head(3)"
   ]
  },
  {
   "cell_type": "markdown",
   "id": "22aa251d",
   "metadata": {},
   "source": [
    "## 2009"
   ]
  },
  {
   "cell_type": "code",
   "execution_count": null,
   "id": "b54d5f90",
   "metadata": {},
   "outputs": [],
   "source": [
    "high = yr_2009.sort_values(by = 'Internet_Users_Pct',ascending = False)\n",
    "high.head(3)"
   ]
  },
  {
   "cell_type": "code",
   "execution_count": null,
   "id": "09f93721",
   "metadata": {},
   "outputs": [],
   "source": [
    "low = yr_2009.sort_values(by = 'Internet_Users_Pct')\n",
    "low.head(3)"
   ]
  },
  {
   "cell_type": "markdown",
   "id": "d88baf7d",
   "metadata": {},
   "source": [
    "# Which country had the highest GDP per cap in 2014?\n",
    "#### What was that gdppc?"
   ]
  },
  {
   "cell_type": "code",
   "execution_count": null,
   "id": "0f84e52a",
   "metadata": {},
   "outputs": [],
   "source": [
    "high = yr_2014.sort_values(by = 'GDP_Per_Capita', ascending = False)\n",
    "high.head(1)"
   ]
  },
  {
   "cell_type": "markdown",
   "id": "a7a13d4e",
   "metadata": {},
   "source": [
    "# Scatter plot time!"
   ]
  },
  {
   "cell_type": "markdown",
   "id": "a033c967",
   "metadata": {},
   "source": [
    "## Years: Percent Using Internet vs GDP Per Capita"
   ]
  },
  {
   "cell_type": "code",
   "execution_count": null,
   "id": "cfc50d3a",
   "metadata": {},
   "outputs": [],
   "source": [
    "yr_2004.plot.scatter('Internet_Users_Pct','GDP_Per_Capita',label = '2004',color='blue')\n",
    "yr_2009.plot.scatter('Internet_Users_Pct','GDP_Per_Capita',label = '2009',color ='green')\n",
    "yr_2014.plot.scatter('Internet_Users_Pct','GDP_Per_Capita',label = '2014',color='red')"
   ]
  },
  {
   "cell_type": "markdown",
   "id": "5a469542",
   "metadata": {},
   "source": [
    "# Observations\n",
    "### Over the years the right side of the graph becomes denser, indicating that internet usage saw growth over the time period\n",
    "### but at the same time, the spread of gdps stayed relatively similar to the starting year 2004"
   ]
  },
  {
   "cell_type": "markdown",
   "id": "a2dca184",
   "metadata": {},
   "source": [
    "# Is the gdp per capita 2014 distribution unimodal?"
   ]
  },
  {
   "cell_type": "code",
   "execution_count": null,
   "id": "2a005fcb",
   "metadata": {},
   "outputs": [],
   "source": [
    "yr_2014.hist('GDP_Per_Capita',bins=20)"
   ]
  },
  {
   "cell_type": "markdown",
   "id": "0e74d685",
   "metadata": {},
   "source": [
    "### The distribution is unimodal, with a huge peak in the lowest gdp per capita bin"
   ]
  },
  {
   "cell_type": "markdown",
   "id": "55dbc8af",
   "metadata": {},
   "source": [
    "# How about internet use? (2014)"
   ]
  },
  {
   "cell_type": "code",
   "execution_count": null,
   "id": "d2f90e79",
   "metadata": {},
   "outputs": [],
   "source": [
    "yr_2014.hist('Internet_Users_Pct',bins = 20)"
   ]
  },
  {
   "cell_type": "markdown",
   "id": "49a50390",
   "metadata": {},
   "source": [
    "### Internet Usage distribution does not appear to be unimodal, there are two primary peaks: just below 20% and just above 40%; And there are other bins with comparable levels"
   ]
  },
  {
   "cell_type": "markdown",
   "id": "10c3131b",
   "metadata": {},
   "source": [
    "# What are the top 5 countries in terms of internet use in 2014?"
   ]
  },
  {
   "cell_type": "code",
   "execution_count": null,
   "id": "8b858368",
   "metadata": {},
   "outputs": [],
   "source": [
    "top_5_2014 = yr_2014.sort_values(by = 'Internet_Users_Pct',ascending = False)\n",
    "top_5_2014 = top_5_2014.head(5)\n",
    "top_5_2014"
   ]
  },
  {
   "cell_type": "markdown",
   "id": "9075246f",
   "metadata": {},
   "source": [
    "# Create a DataFrame called top_5_internet\n",
    "### from combined dataframe with all three years\n",
    "### there should be 15 rows"
   ]
  },
  {
   "cell_type": "code",
   "execution_count": null,
   "id": "e4dee9d1",
   "metadata": {},
   "outputs": [],
   "source": [
    "## rename to better variable\n",
    "three_year_anal = subset\n",
    "## combine dataframes\n",
    "top_5_internet = top_5_2014.merge(three_year_anal,how = 'inner',on = 'Country')\n",
    "## test\n",
    "top_5_internet.shape"
   ]
  },
  {
   "cell_type": "markdown",
   "id": "ed43c2cb",
   "metadata": {},
   "source": [
    "#### Let's Check out the new dataframe to make sure its all working"
   ]
  },
  {
   "cell_type": "code",
   "execution_count": null,
   "id": "98569a0e",
   "metadata": {},
   "outputs": [],
   "source": [
    "top_5_internet"
   ]
  },
  {
   "cell_type": "markdown",
   "id": "559e7682",
   "metadata": {},
   "source": [
    "### Now lets clean up the table"
   ]
  },
  {
   "cell_type": "code",
   "execution_count": null,
   "id": "874127eb",
   "metadata": {},
   "outputs": [],
   "source": [
    "## delete extra axie\n",
    "clean_top_5_internet = top_5_internet.drop(columns = ['Year_x','GDP_Per_Capita_x','Internet_Users_Pct_x'])\n",
    "##rename leftover\n",
    "temp = clean_top_5_internet.rename(columns={'Year_y': 'Year','GDP_Per_Capita_y' : 'GDP_Per_Capita','Internet_Users_Pct_y':'Internet_Users_Pct'})\n",
    "#assign to variable\n",
    "top_5_internet = temp\n",
    "##test\n",
    "top_5_internet"
   ]
  },
  {
   "cell_type": "markdown",
   "id": "99eff299",
   "metadata": {},
   "source": [
    "### Looks much better now, let's move on\n",
    "#### be careful running this code again, as it may mess up the flow of the workbook"
   ]
  },
  {
   "cell_type": "markdown",
   "id": "849695aa",
   "metadata": {},
   "source": [
    "# Create a seaborn FacetGrid to show the internet usage trend across the years 2004, 2009, and 2014 for these 5 countries"
   ]
  },
  {
   "cell_type": "code",
   "execution_count": null,
   "id": "b6d1d2b2",
   "metadata": {},
   "outputs": [],
   "source": [
    "year_facet = sns.FacetGrid(top_5_internet,col = 'Country')\n",
    "internet_map = year_facet.map(sns.lineplot,'Year','Internet_Users_Pct',color = 'darkgreen')"
   ]
  },
  {
   "cell_type": "markdown",
   "id": "7f5a9688",
   "metadata": {},
   "source": [
    "#### Andorra had the starkest increase in internet usage out of the top 5 "
   ]
  },
  {
   "cell_type": "markdown",
   "id": "6423b9f0",
   "metadata": {},
   "source": [
    "# Now look at the lowest 5 countries in terms of internet use"
   ]
  },
  {
   "cell_type": "markdown",
   "id": "72ee8093",
   "metadata": {},
   "source": [
    "### First Step is to create our low_5 dataframe"
   ]
  },
  {
   "cell_type": "code",
   "execution_count": null,
   "id": "5444ef23",
   "metadata": {},
   "outputs": [],
   "source": [
    "low_internet_2014 = yr_2014.sort_values(by = 'Internet_Users_Pct')\n",
    "low_internet_2014 = low_internet_2014.head(5)\n",
    "low_internet_2014"
   ]
  },
  {
   "cell_type": "markdown",
   "id": "0f257ff7",
   "metadata": {},
   "source": [
    "### Now, let's merge with three year table"
   ]
  },
  {
   "cell_type": "code",
   "execution_count": null,
   "id": "aef0aae6",
   "metadata": {
    "scrolled": true
   },
   "outputs": [],
   "source": [
    "## join the tables\n",
    "temp = low_internet_2014.merge(three_year_anal,how = 'inner',on = ['Country'])\n",
    "## test\n",
    "temp"
   ]
  },
  {
   "cell_type": "markdown",
   "id": "c1f7ea13",
   "metadata": {},
   "source": [
    "#### Again, let's clean it"
   ]
  },
  {
   "cell_type": "code",
   "execution_count": null,
   "id": "2b0f9db7",
   "metadata": {},
   "outputs": [],
   "source": [
    "clean = temp.drop(columns = ['Year_x','GDP_Per_Capita_x','Internet_Users_Pct_x'])\n",
    "clean = clean.rename(columns = {'Year_y':'Year','GDP_Per_Capita_y':'GDP_Per_Capita','Internet_Users_Pct_y':'Internet_Users_Pct'})\n",
    "##assign to better var name\n",
    "low_internet_5 = clean\n",
    "low_internet_5"
   ]
  },
  {
   "cell_type": "markdown",
   "id": "62db59dc",
   "metadata": {},
   "source": [
    "## Seaborn Time!"
   ]
  },
  {
   "cell_type": "code",
   "execution_count": null,
   "id": "13ce9190",
   "metadata": {},
   "outputs": [],
   "source": [
    "low_internet_facet = sns.FacetGrid(low_internet_5, col = 'Country')\n",
    "low_internet_map = low_internet_facet.map(sns.lineplot,'Year','Internet_Users_Pct')"
   ]
  },
  {
   "cell_type": "markdown",
   "id": "6a16b69d",
   "metadata": {},
   "source": [
    "#### North Korea consistently is the worst in terms of percent internet usage... with 0 every year measured"
   ]
  },
  {
   "cell_type": "markdown",
   "id": "61ff4b7f",
   "metadata": {},
   "source": [
    "# Investegate the same for highest GDP Per Capita(2014)"
   ]
  },
  {
   "cell_type": "markdown",
   "id": "901e9865",
   "metadata": {},
   "source": [
    "### Step One: Create Top 5 Table"
   ]
  },
  {
   "cell_type": "code",
   "execution_count": null,
   "id": "31635f86",
   "metadata": {},
   "outputs": [],
   "source": [
    "top_5_gdp = yr_2014.sort_values(by = 'GDP_Per_Capita', ascending = False)\n",
    "top_5_gdp = top_5_gdp.head(5)\n",
    "top_5_gdp = top_5_gdp.reset_index(drop = True)\n",
    "top_5_gdp"
   ]
  },
  {
   "cell_type": "markdown",
   "id": "7cbe1dc3",
   "metadata": {},
   "source": [
    "### Step Two: Join with three year table"
   ]
  },
  {
   "cell_type": "code",
   "execution_count": null,
   "id": "c48d54f2",
   "metadata": {},
   "outputs": [],
   "source": [
    "## do the join\n",
    "temp = top_5_gdp.merge(three_year_anal, how = 'inner', on = 'Country')\n",
    "## test\n",
    "temp"
   ]
  },
  {
   "cell_type": "markdown",
   "id": "c977e2f8",
   "metadata": {},
   "source": [
    "### Step Three: Clean er' up"
   ]
  },
  {
   "cell_type": "code",
   "execution_count": null,
   "id": "519b1444",
   "metadata": {},
   "outputs": [],
   "source": [
    "clean = temp.drop(columns = ['Year_x','GDP_Per_Capita_x','Internet_Users_Pct_x'])\n",
    "clean = clean.rename(columns = {'Year_y':'Year','GDP_Per_Capita_y':'GDP_Per_Capita','Internet_Users_Pct_y':'Internet_Users_Pct'})\n",
    "##assign to better var name\n",
    "top_5_gdp = clean\n",
    "top_5_gdp"
   ]
  },
  {
   "cell_type": "markdown",
   "id": "8885839a",
   "metadata": {},
   "source": [
    "### Final Step: Bring in Seaborn!"
   ]
  },
  {
   "cell_type": "code",
   "execution_count": null,
   "id": "8be04e9b",
   "metadata": {},
   "outputs": [],
   "source": [
    "top_gdp_facet = sns.FacetGrid(top_5_gdp, col = 'Country')\n",
    "top_gdp_map = top_gdp_facet.map(sns.lineplot,'Year','GDP_Per_Capita', color = 'blueviolet')"
   ]
  },
  {
   "cell_type": "markdown",
   "id": "3feaa528",
   "metadata": {},
   "source": [
    "# Gonna Repeat One More Time... looking at lowest gdp"
   ]
  },
  {
   "cell_type": "code",
   "execution_count": null,
   "id": "6e4e8bd9",
   "metadata": {},
   "outputs": [],
   "source": [
    "## Create Table\n",
    "low_gdp_5 = yr_2014.sort_values(by = 'GDP_Per_Capita')\n",
    "low_gdp_5 = low_gdp_5.head(5)\n",
    "## Merge With Three year\n",
    "temp = low_gdp_5.merge(three_year_anal, how = 'inner', on = 'Country')\n",
    "## Clean\n",
    "clean = temp.drop(columns = ['Year_x','GDP_Per_Capita_x','Internet_Users_Pct_x'])\n",
    "clean = clean.rename(columns = {'Year_y':'Year','GDP_Per_Capita_y':'GDP_Per_Capita','Internet_Users_Pct_y':'Internet_Users_Pct'})\n",
    "## assign to better var name\n",
    "low_gdp_5 = clean\n",
    "## Seaborn\n",
    "low_gdp_facet = sns.FacetGrid(low_gdp_5, col = 'Country')\n",
    "low_gdp_map = low_gdp_facet.map(sns.lineplot,'Year','GDP_Per_Capita',color = 'turquoise')"
   ]
  },
  {
   "cell_type": "markdown",
   "id": "08e19485",
   "metadata": {},
   "source": [
    "## Somalia has null values for 2004, 2009 so the line graph shows up as blank -- not sure what to do here"
   ]
  },
  {
   "cell_type": "markdown",
   "id": "862274c3",
   "metadata": {},
   "source": [
    "#### Based on internet reasearch, due to the volatile conditions of somalia, UN involvement in the country has been spotty as they have been forced to halt efforts in the countries multiple times due to dangerous conditions"
   ]
  },
  {
   "cell_type": "markdown",
   "id": "21848509",
   "metadata": {},
   "source": [
    "# Why does The Central African Republic's GDP Per Capita Decline Heavily after increasing from 2004 to 2009?"
   ]
  },
  {
   "cell_type": "markdown",
   "id": "c9366352",
   "metadata": {},
   "source": [
    "#### Central African Republic (CAR) in the 21st century has been dominated by civil war - a large contributing factor to the country ranking worst in gdp per capita in the world today. The growth from 2004 to 2009 can potentially be attributed to a time of relative peace in the country, caused by a peace agreement reached in 2007 that greatly limited conflict in the country. However, by 2012 fighting resumed in full force as rebel groups rapidly took over territorry in the northern regions of the country, and by March 2013, the rebels had taken over the capital city. It is my best guess that this is the primary cause of the sharp decline the per capita gdp sees from 2009 to 2014."
   ]
  },
  {
   "cell_type": "code",
   "execution_count": null,
   "id": "d5231b1a",
   "metadata": {},
   "outputs": [],
   "source": [
    "car_stats = gdp_and_internet_use.query('Country == \"Central African Republic\"')\n",
    "car_stats = car_stats.sort_values(by = 'Year')\n",
    "car_stats.plot.line('Year','GDP_Per_Capita',color = 'crimson',title = 'Central African Republic')\n",
    "plt.axvline(x = 2007,label = 'Peace Reached',color = 'darkcyan')\n",
    "plt.axvline(x = 2012,label = 'Conflict Begins',color = 'darkgreen',linestyle = 'solid')\n",
    "plt.axvline(x = 2013,label = 'Capital City Falls',color = 'lime',linestyle = 'solid')\n",
    "plt.axvline(x = 2014,label = 'UN Deploys Troops',linestyle = 'dashdot',color = 'darkcyan')\n",
    "plt.legend()"
   ]
  },
  {
   "cell_type": "markdown",
   "id": "f5a45cac",
   "metadata": {},
   "source": [
    "### This line chart investigates the GDP Per Capita overlayed with some key timeline points from the civil conflict"
   ]
  },
  {
   "cell_type": "code",
   "execution_count": null,
   "id": "480baab3",
   "metadata": {},
   "outputs": [],
   "source": []
  }
 ],
 "metadata": {
  "celltoolbar": "Raw Cell Format",
  "kernelspec": {
   "display_name": "Python 3 (ipykernel)",
   "language": "python",
   "name": "python3"
  },
  "language_info": {
   "codemirror_mode": {
    "name": "ipython",
    "version": 3
   },
   "file_extension": ".py",
   "mimetype": "text/x-python",
   "name": "python",
   "nbconvert_exporter": "python",
   "pygments_lexer": "ipython3",
   "version": "3.9.13"
  }
 },
 "nbformat": 4,
 "nbformat_minor": 5
}
